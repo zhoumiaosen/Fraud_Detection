{
  "nbformat": 4,
  "nbformat_minor": 0,
  "metadata": {
    "colab": {
      "provenance": []
    },
    "kernelspec": {
      "name": "python3",
      "display_name": "Python 3"
    },
    "language_info": {
      "name": "python"
    }
  },
  "cells": [
    {
      "cell_type": "code",
      "execution_count": 1,
      "metadata": {
        "colab": {
          "base_uri": "https://localhost:8080/"
        },
        "id": "bbfp3-BesrHi",
        "outputId": "be2cdb30-3ca4-47ec-e1d5-91453a0acf5b"
      },
      "outputs": [
        {
          "output_type": "stream",
          "name": "stdout",
          "text": [
            "Mounted at /content/drive\n"
          ]
        }
      ],
      "source": [
        "from google.colab import drive\n",
        "drive.mount('/content/drive')"
      ]
    },
    {
      "cell_type": "code",
      "source": [
        "import pandas as pd\n",
        "import matplotlib.pyplot as pltx\n",
        "import numpy as np\n",
        "from sklearn.svm import OneClassSVM\n",
        "from sklearn.metrics import roc_auc_score, f1_score, precision_score, recall_score, confusion_matrix, roc_curve, classification_report ,accuracy_score\n",
        "from sklearn.model_selection import train_test_split"
      ],
      "metadata": {
        "id": "-44gxYRMtJDR"
      },
      "execution_count": 2,
      "outputs": []
    },
    {
      "cell_type": "code",
      "source": [
        "# Data path for train and test\n",
        "X_path = '/content/drive/MyDrive/Cozii/ieee-fraud-detection-processed-data/X_resampled.csv'\n",
        "y_path = '/content/drive/MyDrive/Cozii/ieee-fraud-detection-processed-data/y_resampled.csv'"
      ],
      "metadata": {
        "id": "TRcZavl5hZJb"
      },
      "execution_count": 3,
      "outputs": []
    },
    {
      "cell_type": "code",
      "source": [
        "# Load data\n",
        "X = pd.read_csv(X_path)\n",
        "y = pd.read_csv(y_path)"
      ],
      "metadata": {
        "id": "QhXHD-rohsxU"
      },
      "execution_count": 4,
      "outputs": []
    },
    {
      "cell_type": "code",
      "source": [
        "# Split data into train and test sets with 80% tranining and 20% for testing\n",
        "X_train, X_test, y_train, y_test = train_test_split(X, y, test_size=0.2, random_state=42, stratify=y)\n",
        "del X\n",
        "del y"
      ],
      "metadata": {
        "id": "87H7SZ7USnKT"
      },
      "execution_count": 5,
      "outputs": []
    },
    {
      "source": [
        "# Ensure y is a 1D array by accessing the values of the 'isFraud' column\n",
        "y_train = y_train['isFraud'].values.ravel() # Access 'isFraud' column and convert to NumPy array\n",
        "y_test = y_test['isFraud'].values.ravel()   # Access 'isFraud' column and convert to NumPy array"
      ],
      "cell_type": "code",
      "metadata": {
        "id": "y2Jxpaux9rIh"
      },
      "execution_count": 6,
      "outputs": []
    },
    {
      "cell_type": "code",
      "source": [
        "# Initialize the model\n",
        "oc_svm = OneClassSVM(kernel='rbf', gamma='scale', nu=0.05)  # `nu` controls anomaly rate\n",
        "\n",
        "# Fit on training data\n",
        "oc_svm.fit(X_train)"
      ],
      "metadata": {
        "id": "nb7Nrr_VSnHt"
      },
      "execution_count": null,
      "outputs": []
    },
    {
      "cell_type": "code",
      "source": [
        "# Get anomaly scores (decision function)\n",
        "y_pred_scores = oc_svm.decision_function(X_test)\n",
        "\n",
        "# Convert to probability-like scores\n",
        "y_pred_prob = -y_pred_scores  # Higher means fraud\n",
        "\n",
        "# Convert to binary labels (adjust threshold if needed)\n",
        "threshold = 0  # Default: If score < 0, mark as fraud\n",
        "y_pred = (y_pred_scores < threshold).astype(int)"
      ],
      "metadata": {
        "id": "bSgzznK-SnEs"
      },
      "execution_count": null,
      "outputs": []
    },
    {
      "cell_type": "code",
      "source": [
        "# Print evaluation metrics\n",
        "print(\"Accuracy:\", accuracy_score(y_test, y_pred))\n",
        "print(\"Classification Report:\\n\", classification_report(y_test, y_pred))"
      ],
      "metadata": {
        "id": "QBds5HGH8msj"
      },
      "execution_count": null,
      "outputs": []
    },
    {
      "cell_type": "code",
      "source": [
        "# Compute Metrics\n",
        "auc_score = roc_auc_score(y_test, y_pred_prob)\n",
        "f1 = f1_score(y_test, y_pred)\n",
        "precision = precision_score(y_test, y_pred)\n",
        "recall = recall_score(y_test, y_pred)\n",
        "cm = confusion_matrix(y_test, y_pred)\n",
        "\n",
        "# Print Metrics\n",
        "print(f\"AUC-ROC Score: {auc_score:.4f}\")\n",
        "print(f\"F1-Score: {f1:.4f}\")\n",
        "print(f\"Precision: {precision:.4f}\")\n",
        "print(f\"Recall: {recall:.4f}\")\n",
        "print(\"Confusion Matrix:\")\n",
        "print(cm)"
      ],
      "metadata": {
        "id": "En0V6mY38beC"
      },
      "execution_count": null,
      "outputs": []
    }
  ]
}